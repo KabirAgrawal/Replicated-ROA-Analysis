{
 "cells": [
  {
   "cell_type": "markdown",
   "metadata": {
    "slideshow": {
     "slide_type": "slide"
    }
   },
   "source": [
    "# Nonlinear Analysis\n",
    "## Region of Attraction Estimation for Polynomial Dynamics\n",
    "\n",
    "Joe Carpinelli <br> May 12th, 2020\n"
   ]
  },
  {
   "cell_type": "code",
   "execution_count": 34,
   "metadata": {
    "slideshow": {
     "slide_type": "skip"
    }
   },
   "outputs": [],
   "source": [
    "# Code Imports\n",
    "\n",
    "from scipy import optimize, integrate\n",
    "from sympy import init_printing, latex\n",
    "init_printing()\n",
    "\n",
    "import astropy.units as units\n",
    "import scipy as sci\n",
    "import sympy as sym\n",
    "import numpy as np\n",
    "import matplotlib.pyplot as plt\n",
    "\n",
    "from IPython.display import Markdown, Latex, display\n",
    "\n",
    "import itertools\n",
    "import multiprocessing\n",
    "\n",
    "## Use from-scratch state equations\n",
    "debugging = False"
   ]
  },
  {
   "cell_type": "markdown",
   "metadata": {
    "slideshow": {
     "slide_type": "slide"
    }
   },
   "source": [
    "### Why is Nonlinear Analysis Important?\n",
    "\n",
    "* Flight control validation commonly \"relies heavily on linear analyses and nonlinear, high-fidelity simulations\" \\[1\\]. These two analysis methods do not necessarily capture all of the dynamics in a system\n",
    "\n",
    "* Dynamics can affect real stability margins if they are not included in linear or simulation analysis\n",
    "\n",
    "* \"The F/A-18 Hornet aircraft with the original flight control law exhibited a nonlinear out-of-control phenomenon known as the falling-leaf mode \\[2\\]."
   ]
  },
  {
   "cell_type": "markdown",
   "metadata": {
    "slideshow": {
     "slide_type": "slide"
    }
   },
   "source": [
    "## Topic -  Nonlinear ROA Analysis for NASA's GTM\n",
    "\n",
    "This project summarizes, and at times replicates results authored by Abhijt Chakraborty et al \\[1\\]\n",
    "\n",
    "* Flight control dynamics near a level-flight trim condition are investigated for NASA's Generic Transport Model aircraft (GTM) \n",
    "\n",
    "* A method for finding an estimate for the region of attraction is introduced\n",
    "\n",
    "* A polynomial approximation for NASA's GTM is introduced\n"
   ]
  },
  {
   "cell_type": "markdown",
   "metadata": {
    "slideshow": {
     "slide_type": "slide"
    }
   },
   "source": [
    "### NASA's Generic Transport Model aircraft\n",
    "\n",
    "* \"NASA's Generic Transport Model (GTM) describes a remote-controlled 5.5 percent scale commercial aircraft\" \\[1\\]\n",
    "\n",
    "* Used for testing by NASA AirSTAR (Airborn Subscale Transport Aircraft Research) \\[1\\]\\[5\\]\n",
    "\n",
    "\n",
    "[GTM Flight](https://www.youtube.com/watch?time_continue=26&v=_3JSRvaTRIQ&feature=emb_logo)"
   ]
  },
  {
   "cell_type": "markdown",
   "metadata": {
    "slideshow": {
     "slide_type": "slide"
    }
   },
   "source": [
    "## Nonlinear Dynamics\n",
    "\n",
    "### Variables\n",
    "| Symbol             | Title                       | Units                                  |\n",
    "| ---                | ---                         | ---                                    |\n",
    "| $V$                | Air Speed $(x_1)$           | $\\frac{\\text{Meter}}{\\text{Second}}$   |\n",
    "| $\\alpha$           | Angle of Attack $(x_2)$     | Radians                                |\n",
    "| $q$                | Pitch Rate $(x_3)$          | $\\frac{\\text{Radians}}{\\text{Second}}$ |\n",
    "| $\\theta$           | Pitch Angle $(x_4)$         | Radians                                |\n",
    "| $\\delta_{elev}$    | Elevator Deflection $(u_1)$ | Radians                                |\n",
    "| $\\delta_{th}$      | Engine Throttle $(u_2)$     | %                                      |\n",
    "| $T(\\delta_{th})$   | Thrust due to Single Engine | Newtons                                |\n",
    "| $T_{x,z}(\\delta_{th})$   | Projection of Thrust Along Body $x,z$ | Newtons                                |\n",
    "| $T_m(\\delta_{th})$   | Pitching Moment due to Thrust | Newton $\\cdot$ Meters                               |\n",
    "| $D$                | Drag Force                  | Newtons                                |\n",
    "| $L$                | Lift Force                  | Newtons                                |\n",
    "| $M$                | Aerodynamic Pitching Moment | Newton $\\cdot$ Meters                   |\n",
    "| $\\bar{q}$          | Dynamic Pressure            | $\\frac{\\text{Newtons}}{\\text{Meter}^2}$|\n",
    "| $\\hat{q}$          | Normalized Pitch Rat        | Unitless                               |\n",
    "\n",
    "### Constants\n",
    "| Symbol             | Title                       | Units                                  | Value |\n",
    "| ---                | ---                         | ---                                    | --- | \n",
    "| $S$                | Wing Area                   | Meter${}^2$                            |$0.5483$ |\n",
    "| $\\bar{c}$          | Mean Aerodynamic Chord      | Meter                                  |$0.2790$ |\n",
    "| $m$                | Mass                        | Kg                                     |$22.5$   |\n",
    "| $I_{yy}$           | Pitch Axis Moment of Inertia| Kg $\\cdot$ Meter${}^2$                 |$5.768$  |\n",
    "| $\\rho$             | Air Density                 | $\\frac{\\text{Kg}}{\\text{Meter}^3}$     |$1.224$  |\n",
    "| $g$                | Gravity Constant            | $\\frac{\\text{Meter}}{\\text{Second}^2}$ |$9.810$  |\n",
    "| $n_{ENG}$          | Number of Engines           | Unitless                               |$2$      |\n",
    "| $\\epsilon_{2}$   | Angle b/w Engine and Body Axes | Radians | $0.0375$ |\n",
    "| $\\epsilon_3$ | Angle b/w Engine and Body Axes | Radians | $-0.0294$ | \n",
    "| $r_x$ | Thrust moment arm in $x$ | Meters | $0.1371$ | \n",
    "| $r_z$ | Thrust moment arm in $z$ | Meters | $0.0907$ | "
   ]
  },
  {
   "cell_type": "markdown",
   "metadata": {
    "slideshow": {
     "slide_type": "slide"
    }
   },
   "source": [
    "## Nonlinear Dynamics\n",
    "\n",
    "### State Equations\n",
    "\n",
    "$$ \n",
    "    \\dot{x} = \\begin{bmatrix}\n",
    "        \\frac{1}{m}\n",
    "            \\left(\n",
    "                -D - m g \\sin{(\\theta - \\alpha)} + T_x \\cos{\\alpha} + T_z \\sin{\\alpha}\n",
    "            \\right) \\\\\n",
    "        \\frac{1}{m V}\n",
    "            \\left(\n",
    "                -L + m g \\cos{(\\theta - \\alpha)} - T_x \\sin{\\alpha} + T_z \\cos{\\alpha}\n",
    "            \\right) + q \\\\\n",
    "        \\frac{M + T_m}{Iyy} \\\\\n",
    "        q\n",
    "    \\end{bmatrix}\n",
    "$$\n",
    "\n"
   ]
  },
  {
   "cell_type": "code",
   "execution_count": 2,
   "metadata": {
    "slideshow": {
     "slide_type": "skip"
    }
   },
   "outputs": [],
   "source": [
    "## Set up symbolic variables\n",
    "\n",
    "x1, x2, x3, x4, u1, u2 = sym.symbols('x1, x2, x3, x4, u1, u2')"
   ]
  },
  {
   "cell_type": "markdown",
   "metadata": {
    "slideshow": {
     "slide_type": "slide"
    }
   },
   "source": [
    "### Aerodynamic Terms\n",
    "\n",
    "$$\n",
    "    \\begin{align}\n",
    "        \\bar{q} &= \\frac{1}{2} \\rho V^2 \\\\ \\\\\n",
    "        \\hat{q} &= \\frac{\\bar{c}}{2 V} q \\\\ \\\\ \n",
    "        D &= \\bar{q}\\, S\\, C_D\\, (\\alpha, \\delta_{elev}, \\hat{q}) \\tag{5} \\\\ \\\\\n",
    "        L &= \\bar{q}\\, S\\, C_L\\, (\\alpha, \\delta_{elev}, \\hat{q}) \\tag{6} \\\\ \\\\\\\n",
    "        M &= \\bar{q}\\, \\bar{c}\\, S\\, C_m\\, (\\alpha, \\delta_{elev}, \\hat{q}) \\tag{7} \n",
    "    \\end{align}\n",
    "$$"
   ]
  },
  {
   "cell_type": "markdown",
   "metadata": {
    "slideshow": {
     "slide_type": "slide"
    }
   },
   "source": [
    "### Thrust Terms\n",
    "\n",
    "$$ T_x(\\delta_{th}) = n_{ENG} T(\\delta_{th}) \\cos{(\\epsilon_2)} \\cos{(\\epsilon_3)} \\tag{8}$$ \n",
    "\n",
    "$$ T_z(\\delta_{th}) = n_{ENG} T(\\delta_{th}) \\sin{(\\epsilon_2)} \\cos{(\\epsilon_3)} \\tag{9}$$\n",
    "\n",
    "$$ T_m(\\delta_{th}) = r_z T_x(\\delta_{th}) - r_x T_z(\\delta_{th}) \\tag{10}$$ "
   ]
  },
  {
   "cell_type": "code",
   "execution_count": 3,
   "metadata": {
    "slideshow": {
     "slide_type": "skip"
    }
   },
   "outputs": [],
   "source": [
    "## Add thrust terms to code\n",
    "\n",
    "# Number of engines\n",
    "n_eng = 2\n",
    "\n",
    "# Engine thrust offsets\n",
    "epsilon2 = 0.0375\n",
    "epsilon3 = -0.0294\n",
    "\n",
    "# Thrust moment arms\n",
    "rx = 0.1371\n",
    "rz = 0.0907\n",
    "\n",
    "# Approx. thrust polynomial - defined (11)\n",
    "T = -8.751e-6*u2**3 + 5.115e-3*u2**2 + 3.673e-1*u2 + 4.825\n",
    "\n",
    "# X and Z components of total thrust\n",
    "Tx = n_eng*T*sym.cos(epsilon2)*sym.cos(epsilon3)\n",
    "Tz = n_eng*T*sym.sin(epsilon2)*sym.cos(epsilon3)\n",
    "\n",
    "# Pitching moment due to both engines\n",
    "Tm = rz*Tx - rx*Tz"
   ]
  },
  {
   "cell_type": "markdown",
   "metadata": {
    "slideshow": {
     "slide_type": "slide"
    }
   },
   "source": [
    "## Nonlinear Dynamics\n",
    "\n",
    "### Nonlinear State Space Representation\n",
    "\n",
    "$$ \n",
    "    x = \\begin{bmatrix} V \\\\ \\alpha \\\\ q \\\\ \\theta \\end{bmatrix},\\ \\ \\ \n",
    "    u = \\begin{bmatrix} \\delta_{elev} \\\\ \\delta_{th} \\end{bmatrix} \n",
    "$$\n",
    "\n",
    "$$ \n",
    "    \\dot{x} = \\begin{bmatrix}\n",
    "        \\frac{1}{m}\n",
    "            \\left(\n",
    "                -D - m g \\sin{(x_4 - x_2)} + T_x \\cos{x_2} + T_z \\sin{x_2}\n",
    "            \\right) \\\\\n",
    "        \\frac{1}{m x_1}\n",
    "            \\left(\n",
    "                -L + m g \\cos{(x_4 - x_2)} - T_x \\sin{x_2} + T_z \\cos{x_2}\n",
    "            \\right) + x_3 \\\\\n",
    "        \\frac{M + T_m}{Iyy} \\\\\n",
    "        x_3\n",
    "    \\end{bmatrix}\n",
    "$$"
   ]
  },
  {
   "cell_type": "markdown",
   "metadata": {
    "slideshow": {
     "slide_type": "slide"
    }
   },
   "source": [
    "### Region of Attraction Estimation\n",
    "\n",
    "* \"The ROA of an asymptotically stable equilibrium point is the set of initial conditions whose state trajectories converge back to the equilibrium\" \\[2\\]\\[3\\].\n",
    "\n",
    "* Finding the _exact_ region of attraction is hard, so instead we typically find invariant subsets of the region of attraction\n",
    "\n",
    "* We've already learned one way to (roughly) estimate the region of attraction"
   ]
  },
  {
   "cell_type": "markdown",
   "metadata": {
    "slideshow": {
     "slide_type": "slide"
    }
   },
   "source": [
    "### Conservative ROA Estimate: Lyapunov\n",
    "\n",
    "|Lemma 1 \\[4\\]|\n",
    "|-|\n",
    "| <img src=media/lemma1/lemma1.png width=500 /> |"
   ]
  },
  {
   "cell_type": "markdown",
   "metadata": {
    "slideshow": {
     "slide_type": "slide"
    }
   },
   "source": [
    "### Proposed ROA Estimation Method\n",
    "\n",
    "* Computing the exact ROA is difficult. Instead, upper and lower bounds for the ROA can be found \\[1\\].\n",
    "\n",
    "* If the upper and lower bounds are sufficiently close, then we have confidence in the ROA estimate\n",
    "\n",
    "* Existing optimization algorithms can be used to more efficiently solve for the ROA estimate\n",
    "\n",
    "To simplify the computations required to reach these upper and lower bounds, some assumptions are made:\n",
    "\n",
    "1. Only ellipsoidal ROA estimates are searched\n",
    "\n",
    "2. Existing optimization software \\[7\\]\\[8\\], which requires __low-order polynomial__ nonlinear dynamics with no more than 8-10 states \\[1\\], is used to more efficiently solve for ROA bounds\n",
    "\n"
   ]
  },
  {
   "cell_type": "markdown",
   "metadata": {
    "slideshow": {
     "slide_type": "slide"
    }
   },
   "source": [
    "## Polynomial Approximations\n",
    "\n",
    "$$ \n",
    "    \\dot{x} = \\begin{bmatrix}\n",
    "        \\frac{1}{m}\n",
    "            \\left(\n",
    "                -D - m g \\sin{(\\theta - \\alpha)} + T_x \\cos{\\alpha} + T_z \\sin{\\alpha}\n",
    "            \\right) \\\\\n",
    "        \\frac{1}{m V}\n",
    "            \\left(\n",
    "                -L + m g \\cos{(\\theta - \\alpha)} - T_x \\sin{\\alpha} + T_z \\cos{\\alpha}\n",
    "            \\right) + q \\\\\n",
    "        \\frac{M + T_m}{Iyy} \\\\\n",
    "        q\n",
    "    \\end{bmatrix}\n",
    "$$\n",
    "\n",
    "The following terms are approximated by low-order polynomials: \\[1\\]\n",
    "\n",
    "1. Trigonometric functions: $\\sin{(\\alpha)},\\ \\cos{(\\alpha)}$, <br>$\\sin{(\\theta - \\alpha)},\\ \\cos{(\\theta- \\alpha)}$\n",
    "\n",
    "2. Engine model: $T(\\delta_{th})$\n",
    "\n",
    "3. Rational dependence on speed: $\\frac{1}{V}$\n",
    "\n",
    "4. Aerodynamic coefficients: $C_D,\\ C_L,\\ C_m$\n"
   ]
  },
  {
   "cell_type": "markdown",
   "metadata": {
    "slideshow": {
     "slide_type": "slide"
    }
   },
   "source": [
    "#### Polynomial Approximations: Trigonometric Functions\n",
    "\n",
    "We get polynomial approximations for $\\sin$ and $\\cos$ terms for free, with __Taylor Series Expansions__.\n",
    "\n",
    "$$ \n",
    "    \\begin{align}\n",
    "        \\sin{(z)} & \\approxeq z - \\frac{z^3}{3!}  \\ \\ \\ \\text{ for } z \\ \\text{in Radians} \\\\\n",
    "        & \\implies \\sin{(\\alpha)} \\approxeq \\alpha - \\frac{1}{6}\\alpha^3 \\\\\n",
    "        & \\implies \\sin{(\\theta - \\alpha)} \\approxeq (\\theta - \\alpha) - \\frac{1}{6}(\\theta - \\alpha)^3 \\\\\n",
    "    \\end{align}\n",
    "$$\n",
    "\n",
    "$$ \n",
    "    \\begin{align}\n",
    "        \\cos{(z)} & \\approxeq z - \\frac{1}{2!} z^2  \\ \\ \\ \\text{ for } z \\ \\text{in Radians} \\\\\n",
    "        & \\implies \\cos{(\\alpha)} \\approxeq \\alpha - \\frac{1}{2}\\alpha^2 \\\\\n",
    "        & \\implies \\cos{(\\theta - \\alpha)} \\approxeq (\\theta - \\alpha) - \\frac{1}{2}(\\theta - \\alpha)^2 \\\\\n",
    "    \\end{align}\n",
    "$$\n"
   ]
  },
  {
   "cell_type": "code",
   "execution_count": 4,
   "metadata": {
    "slideshow": {
     "slide_type": "skip"
    }
   },
   "outputs": [],
   "source": [
    "## Create polynomial approximation functions for sin/cos\n",
    "\n",
    "# Sine Approximation\n",
    "def sin_to_poly(z):\n",
    "    return z - ((z**3) / 6)\n",
    "\n",
    "# Cosine Approximation\n",
    "def cos_to_poly(z):\n",
    "    return z - ((z**2) / 2)"
   ]
  },
  {
   "cell_type": "markdown",
   "metadata": {
    "slideshow": {
     "slide_type": "slide"
    }
   },
   "source": [
    "#### Polynomial Approximations: Engine Model\n",
    "\n",
    "The ninth-order Engine Model $T(\\delta_{th})$ is defined within NASA's GTM model. \\[1\\]\n",
    "\n",
    "The authors' used a __least squares technique__ to approximate this ninth-order polynomial as a more managable third-order polynomial.\n",
    "\n",
    "$$ \n",
    "    T(\\delta_{th}) \\approxeq \n",
    "        - 8.751 \\times 10^{-6} \\delta_{th}^3\n",
    "        + 5.115 \\times 10^{-3} \\delta_{th}^2\n",
    "        + 3.673 \\times 10^{-1} \\delta_{th}\n",
    "        + 4.825 \\tag{11}\n",
    "$$ "
   ]
  },
  {
   "cell_type": "markdown",
   "metadata": {
    "slideshow": {
     "slide_type": "slide"
    }
   },
   "source": [
    "#### Polynomial Approximations: Rational dependence on speed\n",
    "\n",
    "The expression $\\frac{1}{V}$ appears in the expressions for $\\dot{\\alpha} \\triangleq \\dot{x_2}$, as well as the expression for normalized pitch rate $\\hat{q}$.\n",
    "\n",
    "The authors used also used a __least squares technique__ to approximate $\\frac{1}{V}$ as a polynomial \\[1\\].\n",
    "\n",
    "$$ \\frac{1}{V} \\approxeq -5.304 \\times 10^{-4} V + 4.699 \\times 10^{-2} \\tag{12}$$\n",
    "\n",
    "This can be re-created with some simple Python code."
   ]
  },
  {
   "cell_type": "code",
   "execution_count": 5,
   "metadata": {
    "slideshow": {
     "slide_type": "skip"
    }
   },
   "outputs": [],
   "source": [
    "## Add rational dependence on speed to code\n",
    "\n",
    "rational_speed_dependence = -5.304e-4*x1 + 4.699e-2"
   ]
  },
  {
   "cell_type": "code",
   "execution_count": 6,
   "metadata": {
    "slideshow": {
     "slide_type": "slide"
    }
   },
   "outputs": [
    {
     "name": "stdout",
     "output_type": "stream",
     "text": [
      "1st Order Parameters:\n"
     ]
    },
    {
     "data": {
      "image/png": "[encoded data removed]",
      "text/latex": [
       "$\\displaystyle \\left[\\begin{matrix}-0.000529610357170807\\\\0.0469373738897788\\end{matrix}\\right]$"
      ],
      "text/plain": [
       "⎡-0.000529610357170807⎤\n",
       "⎢                     ⎥\n",
       "⎣ 0.0469373738897788  ⎦"
      ]
     },
     "metadata": {},
     "output_type": "display_data"
    }
   ],
   "source": [
    "## Curve fit data for 1/V to form f(z) = a*z + b\n",
    "\n",
    "# Velocity data from 30 to 60 m/s\n",
    "x_data = np.linspace(30,60,1000000)\n",
    "y_data= 1 / x_data\n",
    "\n",
    "# Use SciPy's built-in least squares tool\n",
    "params, _ = sci.optimize.curve_fit(\n",
    "    lambda x, a, b: a*x + b, \n",
    "    x_data, y_data)\n",
    "\n",
    "# Print results\n",
    "sym.pprint('1st Order Parameters:')\n",
    "display(sym.Matrix(params))"
   ]
  },
  {
   "cell_type": "markdown",
   "metadata": {
    "slideshow": {
     "slide_type": "slide"
    }
   },
   "source": [
    "#### Polynomial Approximations: Aerodynamic Coefficients\n",
    "\n",
    "Body axis aerodynamic coefficients $C_x,\\ C_z,\\ C_m$ were provided via lookup tables in the NASA GTM model.\n",
    "\n",
    "To lower approximation errors, $C_x$ and $C_z$ were rotated into lift and drag coordinates \\[1\\].\n",
    "\n",
    "$$ \n",
    "    \\begin{bmatrix}\n",
    "        C_D \\\\\n",
    "        C_L\n",
    "    \\end{bmatrix} = \\begin{bmatrix}\n",
    "        \\cos{\\alpha} & \\sin{\\alpha} \\\\\n",
    "        -\\sin{\\alpha} & \\cos{\\alpha}\n",
    "    \\end{bmatrix} \\begin{bmatrix}\n",
    "        C_x \\\\ \n",
    "        C_z\n",
    "    \\end{bmatrix} \\tag{14}\n",
    "$$"
   ]
  },
  {
   "cell_type": "markdown",
   "metadata": {
    "slideshow": {
     "slide_type": "slide"
    }
   },
   "source": [
    "#### Polynomial Approximations: Aerodynamic Coefficients\n",
    "\n",
    "$C_D$, $C_L$, and $C_m$ were then approximated by third-order polynomial models, which were weighted to be most accurate for low angle-of-attack regions of the state space \\[1\\].\n",
    "\n",
    "The drag force, lift force, and pitching moment aerodynamic coefficientsare computed as a sum of three terms: \"basic airframe, elevator inputs, and pitch rate\" \\[1\\]\n",
    "\n",
    "$$ C_*(\\alpha, \\delta_{elev}, \\hat{q}) = \n",
    "        C_{*,\\alpha}(\\alpha)\n",
    "        + C_{*,\\delta_{elev}}(\\alpha, \\delta_{elev})\n",
    "        + C_{*,\\hat{q}}(\\alpha,\\hat{q}) $$      \n",
    "\"where $*$ can be replaced by $D$, $L$, $m$ to form the __drag force__, __lift force__, and __pitching moment__ coefficient, respectively\" \\[1\\]."
   ]
  },
  {
   "cell_type": "markdown",
   "metadata": {
    "slideshow": {
     "slide_type": "slide"
    }
   },
   "source": [
    "#### Polynomial Approximations: Aerodynamic Coefficients\n",
    "\n",
    "|Figure 1 - Curve Fitting \\[1\\]|\n",
    "|-|\n",
    "|<img src=\"media/fig1/fig1_published.png\" width=500/>|"
   ]
  },
  {
   "cell_type": "markdown",
   "metadata": {
    "slideshow": {
     "slide_type": "slide"
    }
   },
   "source": [
    "#### Polynomial Approximations: Aerodynamic Coefficients \\[1\\]\n",
    "\n",
    "\n",
    "$$ \n",
    "\\begin{align}\n",
    "&C_{D,\\alpha}(\\alpha) = - 1.477\\alpha^3 + 3.110\\alpha^2 - 1.303\\times10^{-1}\\alpha + 3.060\\times10^{-2} \\\\ \n",
    "&C_{D,\\delta_{elev}}(\\alpha,\\delta_{elev}) = - 5.943\\times10^{-2}\\alpha^2 + 1.435\\times10^{-1}\\alpha\\delta_{elev} + 5.967\\times10^{-2}\\delta_{elev}^2 \\\\\n",
    "&\\ \\ \\ \\ \\ \\ \\ \\ + 2.661\\times10^{-2}\\alpha + 2.733\\times10^{-2}\\delta_{elev} - 1.903\\times10^{-3} \\\\\n",
    "&C_{D,\\hat{q}}(\\alpha,\\hat{q}) = - 2.917\\times10^{-2}\\alpha^2 + 33.58\\alpha\\hat{q} - 151.0\\hat{q}^2 - 3.022\\times10^{-3}\\alpha \\\\\n",
    "&\\ \\ \\ \\ \\ \\ \\ \\ - 9.691\\times10^{-1}\\hat{q} + 2.221\\times10^{-4} \\\\ \\\\\n",
    "&C_{L,\\alpha}(\\alpha) = 2.141\\alpha^3 - 6.575\\alpha^2 + 5.298\\alpha + 5.337\\times10^{-2} \\\\\n",
    "&C_{L,\\delta_{elev}}(\\alpha,\\delta_{elev}) = 4.188\\times10^{-3}\\alpha^2 - 3.438\\times10^{-1}\\alpha\\delta_{elev} + 9.293\\times10^{-2}\\delta_{elev}^2 \\\\\n",
    "&\\ \\ \\ \\ \\ \\ \\ \\ - 3.497\\times10^{-2}\\alpha + 4.610\\times10^{-1}\\delta_{elev} + 2.543\\times10^{-3} \\\\\n",
    "&C_{L,\\hat{q}}(\\alpha,\\hat{q}) = 2.297\\times10^{-2}\\alpha^2 - 1.359\\alpha\\hat{q} - 856.7\\hat{q}^2 - 1.673\\times10^{-2}\\alpha \\\\\n",
    "&\\ \\ \\ \\ \\ \\ \\ \\ + 34.38\\hat{q} + 3.703\\times10^{-3} \\\\ \\\\\n",
    "&C_{m,\\alpha}(\\alpha) = - 2.199\\times10^{-1}\\alpha^3 + 5.912\\times10^{-1}\\alpha^2 + 1.498\\alpha + 1.516\\times10^{-1} \\\\\n",
    "&C_{m,\\delta_{elev}}(\\alpha,\\delta_{elev}) = 1.263\\alpha\\delta_{elev} - 1.887\\delta_{elev} \\\\\n",
    "&C_{m,\\hat{q}}(\\alpha,\\hat{q}) = -41.24\\hat{q}\n",
    "\\end{align}\n",
    "$$\n",
    "\n"
   ]
  },
  {
   "cell_type": "code",
   "execution_count": 7,
   "metadata": {
    "slideshow": {
     "slide_type": "skip"
    }
   },
   "outputs": [],
   "source": [
    "## Add aerodynamic terms to code\n",
    "\n",
    "# Wing area \n",
    "S = 0.5483\n",
    "\n",
    "# Mean aerodynamic chord\n",
    "c_bar = 0.2790\n",
    "\n",
    "# Mass\n",
    "m = 22.50\n",
    "\n",
    "# Pitch axis moment of inertia\n",
    "Iyy = 5.768\n",
    "\n",
    "# Air density\n",
    "rho = 1.224\n",
    "\n",
    "# Gravity constant\n",
    "g = 9.810\n",
    "\n",
    "# Normalized pitch rate (unitless)\n",
    "q_hat = (c_bar / 2) * rational_speed_dependence * x3\n",
    "\n",
    "# Dynamic pressure\n",
    "q_bar = (rho/2)*x1**2\n",
    "\n",
    "## Aerodynamic coefficients, found in\n",
    "## A.1 [1]\n",
    "\n",
    "# Drag coefficient\n",
    "C_D = -1.477*x2**3 + 3.110*x2**2 - 1.303e-1*x2 + 3.060e-2\\\n",
    "- 5.943e-2*x2**2 + 1.435e-1*x2*u1 + 5.967e-2*u1**2 + 2.661e-2*x2 + 2.733e-2*u1 - 1.903e-3\\\n",
    "- 2.197e-2*x2**2 + 33.58*x2*q_hat - 151.0*q_hat**2 - 3.022e-3*x2 - 9.691e-1*q_hat + 2.221e-4\n",
    "\n",
    "# Lift coefficient\n",
    "C_L = 2.141*x2**3 - 6.575*x2**2 + 5.298*x2 + 5.337e-2\\\n",
    "+ 4.188e-3*x2**2 - 3.438e-1*x2*u1 + 9.293e-2*u1**2 - 3.497e-2*x2 + 4.610e-1*u1 + 2.543e-3\\\n",
    "+ 2.297e-2*x2**2 - 1.359*x2*q_hat - 856.7*q_hat**2 - 1.673e-2*x2 + 34.38*q_hat + 3.703e-3\n",
    "\n",
    "# Pitching moment coefficient\n",
    "C_m = -2.199e-1*x2**3 + 5.912e-1*x2**2 - 1.498*x2 + 1.516e-1\\\n",
    "+ 1.263*x2*u1 - 1.887*u1\\\n",
    "- 41.24*q_hat # + 5.318*q_hat**3 # causes lower stability margin (34) [1]\n",
    "\n",
    "# Drag force\n",
    "D = q_bar*S*C_D\n",
    "\n",
    "# Lift force\n",
    "L = q_bar*S*C_L\n",
    "\n",
    "# Pitching moment\n",
    "M = q_bar*S*c_bar*C_m"
   ]
  },
  {
   "cell_type": "markdown",
   "metadata": {
    "slideshow": {
     "slide_type": "slide"
    }
   },
   "source": [
    "## Polynomial State Space Model\n",
    "\n",
    "Recall the 4-state longitudinal dynamics:\n",
    "$$ \n",
    "    \\dot{x} = \\begin{bmatrix}\n",
    "        \\frac{1}{m}\n",
    "            \\left(\n",
    "                -D - m g \\sin{(\\theta - \\alpha)} + T_x \\cos{\\alpha} + T_z \\sin{\\alpha}\n",
    "            \\right) \\\\\n",
    "        \\frac{1}{m V}\n",
    "            \\left(\n",
    "                -L + m g \\cos{(\\theta - \\alpha)} - T_x \\sin{\\alpha} + T_z \\cos{\\alpha}\n",
    "            \\right) + q \\\\\n",
    "        \\frac{M + T_m}{Iyy} \\\\\n",
    "        q\n",
    "    \\end{bmatrix}\n",
    "$$\n",
    "\n",
    "Substituting $x = \\begin{bmatrix} V & \\alpha & q & \\theta \\end{bmatrix}^T$ and $u = \\begin{bmatrix} \\delta_{elev} & \\delta_{th} \\end{bmatrix}^t$, and substituting the four categories of low-order polynomials previously defined allows us to write: \\[1\\]\n",
    "\n",
    "$$ \\dot{x} = f(x,u) = \\begin{bmatrix} f_1(x,u) \\\\ f_2(x,u) \\\\ f_3(x,u) \\\\ f_4(x,u) \\end{bmatrix} \\tag{15} $$"
   ]
  },
  {
   "cell_type": "code",
   "execution_count": 8,
   "metadata": {
    "slideshow": {
     "slide_type": "skip"
    }
   },
   "outputs": [],
   "source": [
    "## Add full dynamics in code\n",
    "\n",
    "f1_redo = (1/m)*(-D - m*g*sin_to_poly(x4-x2) + Tx*cos_to_poly(x2) + Tz*sin_to_poly(x2))\n",
    "def f1_sim_redo(_x1,_x2,_x3,_x4,_u1,_u2):\n",
    "    return float(\n",
    "        f1_redo.subs([(x1,_x1),(x2,_x2),(x3,_x3),(x4,_x4),(u1,_u1),(u2,_u2)])\n",
    "    )\n",
    "\n",
    "f2_redo = (1/m)*rational_speed_dependence * (-L + m*g*cos_to_poly(x4-x2) - Tx*sin_to_poly(x2) + Tx*cos_to_poly(x2)) + x3\n",
    "def f2_sim_redo(_x1,_x2,_x3,_x4,_u1,_u2):\n",
    "    return float(\n",
    "        f2_redo.subs([(x1,_x1),(x2,_x2),(x3,_x3),(x4,_x4),(u1,_u1),(u2,_u2)])\n",
    "    )\n",
    "\n",
    "f3_redo = (M + Tm)/Iyy\n",
    "def f3_sim_redo(_x1,_x2,_x3,_x4,_u1,_u2):\n",
    "    return float(\n",
    "        f3_redo.subs([(x1,_x1),(x2,_x2),(x3,_x3),(x4,_x4),(u1,_u1),(u2,_u2)])\n",
    "    )\n",
    "\n",
    "f4_redo = x3\n",
    "def f4_sim_redo(_x1,_x2,_x3,_x4,_u1,_u2):\n",
    "    return float(\n",
    "        f4_redo.subs([(x1,_x1),(x2,_x2),(x3,_x3),(x4,_x4),(u1,_u1),(u2,_u2)])\n",
    "    )"
   ]
  },
  {
   "cell_type": "markdown",
   "metadata": {
    "slideshow": {
     "slide_type": "slide"
    }
   },
   "source": [
    "### 1st Row of $f(x,u)$ \\[1\\]\n",
    "\n",
    "$$\n",
    "\\begin{align}\n",
    "f_1(x,u) = \\\n",
    "&\\ 1.233\\times10^{-8}x_1^4x_3^2 + 4.853\\times10^{-9}x_2^3u_2^3 + 3.705\\times10^{-5}x_1^3x_2 x_3 \\\\\n",
    "\\\n",
    "& - 2.184\\times10^{-6}x_1^3x_3^2 + 2.203\\times10^{-2}x_1^2x_2^3 - 2.836\\times10^{-6}x_2^3u_2^2 \\\\\n",
    "\\\n",
    "& + 3.885\\times10^{-7}x_2^2u_2^3 - 1.069\\times10^{-6}x_1^3x_3 - 4.517\\times10^{-2}x_1^2x_2^2 \\\\\n",
    "\\\n",
    "& - 2.140\\times10^{-3}x_1^2x_2u_1- 3.282\\times10^{-3}x_1^2x_2 x_3 - 8.901\\times10^{-4}x_1^2u_1^2 \\\\\n",
    "\\\n",
    "& + 9.677\\times10^{-5}x_1^2x_3^2 - 2.037\\times10^{-4}x_2^3u_2 - 2.270\\times10^{-4}x_2^2u_2^2 \\\\\n",
    "\\\n",
    "& - 2.912\\times10^{-8}x_2u_2^3 + 1.591\\times10^{-3}x_1^2x_2 - 4.077\\times10^{-4}x_1^2u_1 \\\\\n",
    "\\\n",
    "& + 9.475\\times10^{-5}x_1^2x_3 - 1.637x_2^3 - 1.631\\times10^{-2}x_2^2u_2 + 4.903x_2^2x_4 \\\\\n",
    "\\\n",
    "& -4.903x_2x_4^2 + 1.702\\times10^{-5}x_2u_2^2 - 7.771\\times10^{-7}u_2^3 + 1.634x_4^3 \\\\\n",
    "\\\n",
    "& - 4.319\\times10^{-4}x_1^2 - 2.142\\times10^{-1}x_2^2 + 1.222\\times10^{-3}x_2u_2 \\\\\n",
    "\\\n",
    "& + 4.541\\times10^{-4}u_2^2 + 9.823x_2 + 3.261\\times10^{-2}u_2 - 9.807x_4 + 4.282\\times10^{-1}\n",
    "\\\n",
    "\\end{align}\n",
    "$$"
   ]
  },
  {
   "cell_type": "code",
   "execution_count": 9,
   "metadata": {
    "slideshow": {
     "slide_type": "skip"
    }
   },
   "outputs": [],
   "source": [
    "## Add f1 to code symbolically\n",
    "\n",
    "f1 = 1.233e-8*x1**4*x3**2 + 4.853e-9*x2**3*u2**3 + 3.705e-5*x1**3*x2*x3 \\\n",
    "- 2.184e-6*x1**3*x3**2 + 2.203e-2*x1**2*x2**3 - 2.836e-6*x2**3*u2**2 + 3.885e-7*x2**2*u2**3 \\\n",
    "- 1.069e-6*x1**3*x3 - 4.517e-2*x1**2*x2**2 - 2.140e-3*x1**2*x2*u1 - 3.282e-3*x1**2*x2*x3 \\\n",
    "- 8.901e-4*x1**2*u1**2 + 9.677e-5*x1**2*x3**2 - 2.037e-4*x2**3*u2 - 2.270e-4*x2**2*u2**2 \\\n",
    "- 2.912e-8*x2*u2**3 + 1.591e-3*x1**2*x2 - 4.077e-4*x1**2*u1 + 9.475e-5*x1**2*x3 \\\n",
    "- 1.637*x2**3 - 1.631e-2*x2**2*u2 + 4.903*x2**2*x4 - 4.903*x2*x4**2 + 1.702e-5*x2*u2**2 \\\n",
    "- 7.771e-7*u2**3 + 1.634*x4**3 - 4.319e-4*x1**2 - 2.142e-1*x2**2 + 1.222e-3*x2*u2 \\\n",
    "+ 4.541e-4*u2**2 + 9.823*x2 + 3.261e-2*u2 - 9.807*x4 + 4.282e-1\n",
    "\n",
    "def f1_sim(x1,x2,x3,x4,u1,u2):\n",
    "    return 1.233e-8*x1**4*x3**2 + 4.853e-9*x2**3*u2**3 + 3.705e-5*x1**3*x2*x3 \\\n",
    "    - 2.184e-6*x1**3*x3**2 + 2.203e-2*x1**2*x2**3 - 2.836e-6*x2**3*u2**2 + 3.885e-7*x2**2*u2**3 \\\n",
    "    - 1.069e-6*x1**3*x3 - 4.517e-2*x1**2*x2**2 - 2.140e-3*x1**2*x2*u1 - 3.282e-3*x1**2*x2*x3 \\\n",
    "    - 8.901e-4*x1**2*u1**2 + 9.677e-5*x1**2*x3**2 - 2.037e-4*x2**3*u2 - 2.270e-4*x2**2*u2**2 \\\n",
    "    - 2.912e-8*x2*u2**3 + 1.591e-3*x1**2*x2 - 4.077e-4*x1**2*u1 + 9.475e-5*x1**2*x3 \\\n",
    "    - 1.637*x2**3 - 1.631e-2*x2**2*u2 + 4.903*x2**2*x4 - 4.903*x2*x4**2 + 1.702e-5*x2*u2**2 \\\n",
    "    - 7.771e-7*u2**3 + 1.634*x4**3 - 4.319e-4*x1**2 - 2.142e-1*x2**2 + 1.222e-3*x2*u2 \\\n",
    "    + 4.541e-4*u2**2 + 9.823*x2 + 3.261e-2*u2 - 9.807*x4 + 4.282e-1"
   ]
  },
  {
   "cell_type": "markdown",
   "metadata": {
    "slideshow": {
     "slide_type": "slide"
    }
   },
   "source": [
    "### 2nd Row of $f(x,u)$ \\[1\\]\n",
    "\n",
    "$$\n",
    "\\begin{align}\n",
    "f_2(x,u) = \\\n",
    "& -3.709\\times10^{-11}x_1^5x_3^2 + 6.869\\times10^{-11}x_1x_2^3u_2^3 + 7.957\\times10^{-10}x_1^4x_2 x_3 \\\\\n",
    "\\\n",
    "& + 9.860\\times10^{-9}x_1^4x_3^2 + 1.694\\times10^{-5}x_1^3x_2^3 - 4.015\\times10^{-8}x_1x_2^3u_2^2 \\\\\n",
    "\\\n",
    "& - 7.722\\times10^{-12}x_1x_2^2u_2^3 - 6.086\\times10^{-9}x_2^3u_2^3 - 2.013\\times10^{-8}x_1^4x_3 \\\\\n",
    "\\\n",
    "& - 5.180\\times10^{-5}x_1^3x_2^2 - 2.720\\times10^{-6}x_1^3x_2u_1 - 1.410\\times10^{-7}x_1^3x_2 x_3 \\\\\n",
    "\\\n",
    "& + 7.352\\times10^{-7}x_1^3u_1^2 - 8.736\\times10^{-7}x_1^3x_3^2 - 1.501\\times10^{-3}x_1^2x_2^3 \\\\\n",
    "\\\n",
    "& - 2.883\\times10^{-6}x_1x_2^3u_2 + 4.513\\times10^{-9}x_1x_2^2u_2^2 - 4.121\\times10^{-10}x_1x_2u_2^3 \\\\\n",
    "\\\n",
    "& + 3.557\\times10^{-6}x_2^3u_2^2 + 6.841\\times10^{-10}x_2^2u_2^3 + 4.151\\times10^{-5}x_1^3x_2 \\\\\n",
    "\\\n",
    "& + 3.648\\times10^{-6}x_1^3u_1 + 3.566\\times10^{-6}x_1^3x_3 + 6.246\\times10^{-6}x_1^2x_2 x_3 \\\\\n",
    "\\\n",
    "& + 4.589\\times10^{-3}x_1^2x_2^2 + 2.410\\times10^{-74}x_1^2x_2u_1 - 6.514\\times10^{-5}x_1^2u_1^2 \\\\\n",
    "\\\n",
    "& + 2.580\\times10^{-5}x_1^2x_3^2 - 3.787\\times10^{-5}x_1x_2^3 + 3.241\\times10^{-7}x_1x_2^2u_2 \\\\\n",
    "\\\n",
    "& + 2.409\\times10^{-7}x_1x_2u_2^2 + 1.544\\times10^{-11}x_1u_2^3 + 2.554\\times10^{-4}x_2^3u_2 \\\\\n",
    "\\\n",
    "& - 3.998\\times10^{-7}x_2^2u_2^2 + 3.651\\times10^{-8}x_2u_2^3 + 4.716\\times10^{-7}x_1^3 \\\\\n",
    "\\\n",
    "& - 3.677\\times10^{-3}x_1^2x_2 - 3.231\\times10^{-4}x_1^2u_1 - 1.579\\times10^{-4}x_1^2x_3 \\\\\n",
    "\\\n",
    "& + 2.605\\times10^{-3}x_1x_2^2 + 1.730\\times10^{-5}x_1x_2u_2 - 5.201\\times10^{-3}x_1x_2x_4 \\\\\n",
    "\\\n",
    "& - 9.026\\times10^{-9}x_1u_2^2 + 2.601\\times10^{-3}x_1x_4^2 + 3.355\\times10^{-3}x_2^3 \\\\\n",
    "\\\n",
    "& - 2.872\\times10^{-5}x_2^2u_2 - 2.134\\times10^{-5}x_2u_2^2 - 1.368\\times10^{-9}u_2^3 \\\\\n",
    "\\\n",
    "& - 4.178\\times10^{-5}x_1^2 + 2.272\\times10^{-4}x_1x_2 - 6.483\\times10^{-7}x_1u_2 \\\\\n",
    "\\\n",
    "& - 2.308\\times10^{-1}x_2^2 - 1.532\\times10^{-3}x_2u_2 + 4.608\\times10^{-1}x_2x_4 \\\\\n",
    "\\\n",
    "& - 2.304\\times10^{-1}x_4^2 + 7.997\\times10^{-7}u_2^2 - 5.210\\times10^{-3}x_1 \\\\\n",
    "\\\n",
    "& -2.013\\times10^{-2}x_2 + 5.744\\times10^{-5}u_2 + x_3 + 4.616\\times10^{-1}\n",
    "\\\n",
    "\\end{align}\n",
    "$$"
   ]
  },
  {
   "cell_type": "code",
   "execution_count": 10,
   "metadata": {
    "slideshow": {
     "slide_type": "skip"
    }
   },
   "outputs": [],
   "source": [
    "## Add f2 to code symbolically\n",
    "\n",
    "f2 = -3.709e-11*x1**5*x3**2 + 6.869e-11*x1*x2**3*u2**3 + 7.957e-10*x1**4*x2*x3 \\\n",
    "+ 9.860e-9*x1**4*x3**2 + 1.694e-5*x1**3*x2**3 - 4.015e-8*x1*x2**3*u2**2 \\\n",
    "- 7.722e-12*x1*x2**2*u2**3 - 6.086e-9*x2**3*u2**3 - 2.013e-8*x1**4*x3 \\\n",
    "- 5.180e-5*x1**3*x2**2 - 2.720e-6*x1**3*x2*u1 - 1.410e-7*x1**3*x2*x3 \\\n",
    "+ 7.352e-7*x1**3*u1**2 - 8.736e-7*x1**3*x3**2 - 1.501e-3*x1**2*x2**3 \\\n",
    "- 2.883e-6*x1*x2**3*u2 + 4.513e-9*x1*x2**2*u2**2 - 4.121e-10*x1*x2*u2**3 \\\n",
    "+ 3.557e-6*x2**3*u2**2 + 6.841e-10*x2**2*u2**3 + 4.151e-5*x1**3*x2 \\\n",
    "+ 3.648e-6*x1**3*u1 + 3.566e-6*x1**3*x3 + 6.246e-6*x1**2*x2*x3 \\\n",
    "+ 4.589e-3*x1**2*x2**2 + 2.410e-74*x1**2*x2*u1 - 6.514e-5*x1**2*u1**2 \\\n",
    "+ 2.580e-5*x1**2*x3**2 - 3.787e-5*x1*x2**3 + 3.241e-7*x1*x2**2*u2 \\\n",
    "+ 2.409e-7*x1*x2*u2**2 + 1.544e-11*x1*u2**3 + 2.554e-4*x2**3*u2 \\\n",
    "- 3.998e-7*x2**2*u2**2 + 3.651e-8*x2*u2**3 + 4.716e-7*x1**3 \\\n",
    "- 3.677e-3*x1**2*x2 - 3.231e-4*x1**2*u1 - 1.579e-4*x1**2*x3 \\\n",
    "+ 2.605e-3*x1*x2**2 + 1.730e-5*x1*x2*u2 - 5.201e-3*x1*x2*x4 \\\n",
    "- 9.026e-9*x1*u2**2 + 2.601e-3*x1*x4**2 + 3.355e-3*x2**3 \\\n",
    "- 2.872e-5*x2**2*u2 - 2.134e-5*x2*u2**2 - 1.368e-9*u2**3 \\\n",
    "- 4.178e-5*x1**2 + 2.272e-4*x1*x2 - 6.483e-7*x1*u2 \\\n",
    "- 2.308e-1*x2**2 - 1.532e-3*x2*u2 + 4.608e-1*x2*x4 \\\n",
    "- 2.304e-1*x4**2 + 7.997e-7*u2**2 - 5.210e-3*x1 \\\n",
    "-2.013e-2*x2 + 5.744e-5*u2 + x3 + 4.616e-1\n",
    "\n",
    "def f2_sim(x1,x2,x3,x4,u1,u2):\n",
    "    return -3.709e-11*x1**5*x3**2 + 6.869e-11*x1*x2**3*u2**3 + 7.957e-10*x1**4*x2*x3 \\\n",
    "    + 9.860e-9*x1**4*x3**2 + 1.694e-5*x1**3*x2**3 - 4.015e-8*x1*x2**3*u2**2 \\\n",
    "    - 7.722e-12*x1*x2**2*u2**3 - 6.086e-9*x2**3*u2**3 - 2.013e-8*x1**4*x3 \\\n",
    "    - 5.180e-5*x1**3*x2**2 - 2.720e-6*x1**3*x2*u1 - 1.410e-7*x1**3*x2*x3 \\\n",
    "    + 7.352e-7*x1**3*u1**2 - 8.736e-7*x1**3*x3**2 - 1.501e-3*x1**2*x2**3 \\\n",
    "    - 2.883e-6*x1*x2**3*u2 + 4.513e-9*x1*x2**2*u2**2 - 4.121e-10*x1*x2*u2**3 \\\n",
    "    + 3.557e-6*x2**3*u2**2 + 6.841e-10*x2**2*u2**3 + 4.151e-5*x1**3*x2 \\\n",
    "    + 3.648e-6*x1**3*u1 + 3.566e-6*x1**3*x3 + 6.246e-6*x1**2*x2*x3 \\\n",
    "    + 4.589e-3*x1**2*x2**2 + 2.410e-74*x1**2*x2*u1 - 6.514e-5*x1**2*u1**2 \\\n",
    "    + 2.580e-5*x1**2*x3**2 - 3.787e-5*x1*x2**3 + 3.241e-7*x1*x2**2*u2 \\\n",
    "    + 2.409e-7*x1*x2*u2**2 + 1.544e-11*x1*u2**3 + 2.554e-4*x2**3*u2 \\\n",
    "    - 3.998e-7*x2**2*u2**2 + 3.651e-8*x2*u2**3 + 4.716e-7*x1**3 \\\n",
    "    - 3.677e-3*x1**2*x2 - 3.231e-4*x1**2*u1 - 1.579e-4*x1**2*x3 \\\n",
    "    + 2.605e-3*x1*x2**2 + 1.730e-5*x1*x2*u2 - 5.201e-3*x1*x2*x4 \\\n",
    "    - 9.026e-9*x1*u2**2 + 2.601e-3*x1*x4**2 + 3.355e-3*x2**3 \\\n",
    "    - 2.872e-5*x2**2*u2 - 2.134e-5*x2*u2**2 - 1.368e-9*u2**3 \\\n",
    "    - 4.178e-5*x1**2 + 2.272e-4*x1*x2 - 6.483e-7*x1*u2 \\\n",
    "    - 2.308e-1*x2**2 - 1.532e-3*x2*u2 + 4.608e-1*x2*x4 \\\n",
    "    - 2.304e-1*x4**2 + 7.997e-7*u2**2 - 5.210e-3*x1 \\\n",
    "    -2.013e-2*x2 + 5.744e-5*u2 + x3 + 4.616e-1"
   ]
  },
  {
   "cell_type": "markdown",
   "metadata": {
    "slideshow": {
     "slide_type": "slide"
    }
   },
   "source": [
    "### 3rd Row of $f(x,u)$ \\[1\\]\n",
    "\n",
    "$$\n",
    "\\begin{align}\n",
    "f_3(x,u) = \\\n",
    "\\\n",
    "& - 6.573\\times10^{-9}x_1^5x_3^3 + 1.747\\times10^{-6}x_1^4x_3^3 - 1.548\\times10^{-4}x_1^3x_3^3 \\\\\n",
    "\\\n",
    "& - 3.569\\times10^{-3}x_1^2x_2^3 + 4.571\\times10^{-3}x_1^2x_3^3 + 4.953\\times10^{-5}x_1^3x_3 \\\\\n",
    "\\\n",
    "& + 9.596\\times10^{-3}x_1^2x_2^2 + 2.049\\times10^{-2}x_1^2x_2u_1 - 2.431\\times10^{-2}x_1^2x_2 \\\\\n",
    "\\\n",
    "& - 3.063\\times10^{-2}x_1^2u_1 - 4.388\\times10^{-3}x_1^2x_3 - 2.594\\times10^{-7}u_2^3 \\\\\n",
    "\\\n",
    "& + 2.461\\times10^{-3}x_1^2 + 1.516\\times10^{-4}u_2^2 + 1.089\\times10^{-2}u_2 + 1.430\\times10^{-1}\n",
    "\\\n",
    "\\end{align}\n",
    "$$ "
   ]
  },
  {
   "cell_type": "code",
   "execution_count": 11,
   "metadata": {
    "slideshow": {
     "slide_type": "skip"
    }
   },
   "outputs": [],
   "source": [
    "## Add f3 to code symbolically\n",
    "\n",
    "f3 = - 6.573e-9*x1**5*x3**3 + 1.747e-6*x1**4*x3**3 - 1.548e-4*x1**3*x3**3 \\\n",
    "- 3.569e-3*x1**2*x2**3 + 4.571e-3*x1**2*x3**3 + 4.953e-5*x1**3*x3 \\\n",
    "+ 9.596e-3*x1**2*x2**2 + 2.049e-2*x1**2*x2*u1 - 2.431e-2*x1**2*x2 \\\n",
    "- 3.063e-2*x1**2*u1 - 4.388e-3*x1**2*x3 - 2.594e-7*u2**3 \\\n",
    "+ 2.461e-3*x1**2 + 1.516e-4*u2**2 + 1.089e-2*u2 + 1.430e-1\n",
    "\n",
    "def f3_sim(x1,x2,x3,x4,u1,u2):\n",
    "    return - 6.573e-9*x1**5*x3**3 + 1.747e-6*x1**4*x3**3 - 1.548e-4*x1**3*x3**3 \\\n",
    "    - 3.569e-3*x1**2*x2**3 + 4.571e-3*x1**2*x3**3 + 4.953e-5*x1**3*x3 \\\n",
    "    + 9.596e-3*x1**2*x2**2 + 2.049e-2*x1**2*x2*u1 - 2.431e-2*x1**2*x2 \\\n",
    "    - 3.063e-2*x1**2*u1 - 4.388e-3*x1**2*x3 - 2.594e-7*u2**3 \\\n",
    "    + 2.461e-3*x1**2 + 1.516e-4*u2**2 + 1.089e-2*u2 + 1.430e-1"
   ]
  },
  {
   "cell_type": "markdown",
   "metadata": {
    "slideshow": {
     "slide_type": "slide"
    }
   },
   "source": [
    "#### 4th Row of $f(x,u)$ \\[1\\]\n",
    "\n",
    "$$ f_4(x,u) = x_3 $$ "
   ]
  },
  {
   "cell_type": "code",
   "execution_count": 12,
   "metadata": {
    "slideshow": {
     "slide_type": "skip"
    }
   },
   "outputs": [],
   "source": [
    "## Add f4 to code symbolically\n",
    "\n",
    "f4 = x3\n",
    "\n",
    "def f4_sim(x1,x2,x3,x4,u1,u2):\n",
    "    return x3"
   ]
  },
  {
   "cell_type": "code",
   "execution_count": 13,
   "metadata": {
    "slideshow": {
     "slide_type": "skip"
    }
   },
   "outputs": [],
   "source": [
    "## Add nonlinear dynamics to code \n",
    "\n",
    "if debugging:\n",
    "    f1 = f1_redo\n",
    "    f1_sim = f1_sim_redo\n",
    "    f2 = f2_redo\n",
    "    f2_sim = f2_sim_redo\n",
    "    f3 = f3_redo\n",
    "    f3_sim = f3_sim_redo\n",
    "    f4 = f4_redo\n",
    "    f4_sim = f4_sim_redo\n",
    "\n",
    "f = sym.Matrix([[f1],[f2],[f3],[f4]])\n",
    "x = sym.Matrix([[x1],[x2],[x3],[x4]])\n",
    "u = sym.Matrix([[u1],[u2]])\n",
    "\n",
    "def f_sim(_x1,_x2,_x3,_x4,_u1,_u2):\n",
    "    return [\n",
    "        f1_sim(_x1,_x2,_x3,_x4,_u1,_u2),\n",
    "        f2_sim(_x1,_x2,_x3,_x4,_u1,_u2),\n",
    "        f3_sim(_x1,_x2,_x3,_x4,_u1,_u2),\n",
    "        f4_sim(_x1,_x2,_x3,_x4,_u1,_u2)\n",
    "    ]"
   ]
  },
  {
   "cell_type": "markdown",
   "metadata": {
    "slideshow": {
     "slide_type": "slide"
    }
   },
   "source": [
    "## Analysis Setup: Trim Condition\n",
    "\n",
    "Now that we have the nonlinear dynamics in our desired form (polynomial), we can begin to analyze our system about equilibrium points (or trim conditions).\n",
    "\n",
    "The rest of this project's primary source describes nonlinear and linear analysis near __one particular level-flight trim condition__, defined below as $x_t,\\ u_t$ \\[1\\].\n",
    "\n",
    "$$ \n",
    "    x_t = \n",
    "        \\begin{bmatrix} \n",
    "            x_{1,t} \\\\ x_{2,t} \\\\ x_{3,t} \\\\ x_{4,t} \n",
    "        \\end{bmatrix} = \n",
    "        \\begin{bmatrix} \n",
    "            V_t \\\\ \\alpha_t \\\\ q_t \\\\ \\theta_t \n",
    "        \\end{bmatrix} = \n",
    "        \\begin{bmatrix}\n",
    "            45\\ \\  \\text{m/s} \\\\\n",
    "            0.04924\\ \\  \\text{rad} \\\\\n",
    "            0\\ \\  \\text{rad/s} \\\\\n",
    "            0.04924\\ \\  \\text{rad}\n",
    "        \\end{bmatrix},\\ \\ \\ \\ \n",
    "    u_t = \n",
    "        \\begin{bmatrix}\n",
    "            u_{1,t} \\\\ u_{2,t}\n",
    "        \\end{bmatrix} = \n",
    "        \\begin{bmatrix}\n",
    "            \\delta_{elev,t} \\\\\n",
    "            \\delta_{th,t}\n",
    "        \\end{bmatrix} = \n",
    "        \\begin{bmatrix}\n",
    "            0.04892\\ \\  \\text{rad} \\\\\n",
    "            14.33\\ \\  \\text{%}\n",
    "        \\end{bmatrix} \\tag{16}\n",
    "$$"
   ]
  },
  {
   "cell_type": "code",
   "execution_count": 36,
   "metadata": {
    "slideshow": {
     "slide_type": "skip"
    }
   },
   "outputs": [
    {
     "data": {
      "text/latex": [
       "$f(x_t,u_t)$:"
      ],
      "text/plain": [
       "<IPython.core.display.Latex object>"
      ]
     },
     "metadata": {},
     "output_type": "display_data"
    },
    {
     "data": {
      "image/png": "[encoded data removed]",
      "text/latex": [
       "$\\displaystyle \\left[ -0.000461436104125856, \\  -0.00109161015459253, \\  0.00087088326576687, \\  0\\right]$"
      ],
      "text/plain": [
       "[-0.000461436104125856, -0.00109161015459253, 0.00087088326576687, 0]"
      ]
     },
     "metadata": {},
     "output_type": "display_data"
    }
   ],
   "source": [
    "# Add trim conditions to code\n",
    "\n",
    "xt = sym.Matrix([[45], [0.04924], [0], [0.04924]])\n",
    "ut = sym.Matrix([[0.04892], [14.33]])\n",
    "\n",
    "## Show f(xt,ut) = 0\n",
    "display(Latex('$f(x_t,u_t)$:'), f_sim(xt[0],xt[1],xt[2],xt[3],ut[0],ut[1]))"
   ]
  },
  {
   "cell_type": "markdown",
   "metadata": {
    "slideshow": {
     "slide_type": "slide"
    }
   },
   "source": [
    "## Analysis: Trim Condition Stability\n",
    "\n",
    "\n",
    "$$ \n",
    "    \\begin{align}\n",
    "        A_t &= \\frac{\\partial f}{\\partial x}|_{x=x_t,\\ u=0} \\\\\n",
    "        & \\implies \\text{eig}(A_t) = \n",
    "            \\begin{bmatrix}\n",
    "                -3.8044 \\pm 6.5809 i \\\\\n",
    "                -0.0193 \\pm 0.3761 i\n",
    "            \\end{bmatrix}\n",
    "    \\end{align}\n",
    "$$ \n",
    "\n",
    "Eigenvalues of open-loop dynamics linearized about $x_t$ are in the left half of the complex plane, therefore this trim condition is __asymptotically stable.__"
   ]
  },
  {
   "cell_type": "code",
   "execution_count": 39,
   "metadata": {
    "slideshow": {
     "slide_type": "skip"
    }
   },
   "outputs": [
    {
     "data": {
      "image/png": "[encoded data removed]",
      "text/latex": [
       "$\\displaystyle Aeq$"
      ],
      "text/plain": [
       "Aeq"
      ]
     },
     "metadata": {},
     "output_type": "display_data"
    },
    {
     "data": {
      "image/png": "[encoded data removed]",
      "text/latex": [
       "$\\displaystyle \\left[\\begin{matrix}-0.0438909273097273 & 4.12166159259874 & -0.06655221225 & -9.8070024245776\\\\-0.010115514146164 & -3.25885969755933 & 0.922809460947467 & 2.21579999999839 \\cdot 10^{-6}\\\\-0.0146022394058869 & -45.3368645215355 & -4.37227875 & 0\\\\0 & 0 & 1 & 0\\end{matrix}\\right]$"
      ],
      "text/plain": [
       "⎡-0.0438909273097273  4.12166159259874    -0.06655221225     -9.8070024245776 \n",
       "⎢                                                                             \n",
       "⎢-0.010115514146164   -3.25885969755933  0.922809460947467  2.21579999999839e-\n",
       "⎢                                                                             \n",
       "⎢-0.0146022394058869  -45.3368645215355     -4.37227875              0        \n",
       "⎢                                                                             \n",
       "⎣         0                   0                  1                   0        \n",
       "\n",
       " ⎤\n",
       " ⎥\n",
       "6⎥\n",
       " ⎥\n",
       " ⎥\n",
       " ⎥\n",
       " ⎦"
      ]
     },
     "metadata": {},
     "output_type": "display_data"
    },
    {
     "data": {
      "image/png": "[encoded data removed]",
      "text/latex": [
       "$\\displaystyle Eigenvalues$"
      ],
      "text/plain": [
       "Eigenvalues"
      ]
     },
     "metadata": {},
     "output_type": "display_data"
    },
    {
     "data": {
      "image/png": "[encoded data removed]",
      "text/latex": [
       "$\\displaystyle \\left[\\begin{matrix}-3.81938142187082 - 6.44399317850904 i\\\\-3.81938142187082 + 6.44399317850904 i\\\\-0.01813326556371 - 0.267406799778464 i\\\\-0.01813326556371 + 0.267406799778464 i\\end{matrix}\\right]$"
      ],
      "text/plain": [
       "⎡-3.81938142187082 - 6.44399317850904⋅ⅈ ⎤\n",
       "⎢                                       ⎥\n",
       "⎢-3.81938142187082 + 6.44399317850904⋅ⅈ ⎥\n",
       "⎢                                       ⎥\n",
       "⎢-0.01813326556371 - 0.267406799778464⋅ⅈ⎥\n",
       "⎢                                       ⎥\n",
       "⎣-0.01813326556371 + 0.267406799778464⋅ⅈ⎦"
      ]
     },
     "metadata": {},
     "output_type": "display_data"
    }
   ],
   "source": [
    "## Measure closed-loop stability near x_t using\n",
    "## Lyapunov's Indirect Method\n",
    "\n",
    "# Evaluate Jacobian to find A_eq (open loop)\n",
    "Aeq = f.jacobian(x)\\\n",
    ".subs([(x1,xt[0]),(x2,xt[1]),(x3,xt[2]),(x4,xt[3])])\\\n",
    ".subs([(u1,ut[0]),(u2,ut[1])])\n",
    "\n",
    "Beq = f.jacobian(u)\\\n",
    ".subs([(x1,xt[0]),(x2,xt[1]),(x3,xt[2]),(x4,xt[3])])\\\n",
    ".subs([(u1,ut[0]),(u2,ut[1])])\n",
    "\n",
    "# Get numerical forms of matrices for convenience\n",
    "Aeq_num = np.matrix(Aeq).astype(np.float64)\n",
    "eig_Aeq = sym.Matrix(list(Aeq.eigenvals(rational=False).keys()))\n",
    "\n",
    "# Print A\n",
    "display(sym.symbols('Aeq'), Aeq)\n",
    "\n",
    "# Print eigenvalues of A\n",
    "display(sym.symbols('Eigenvalues'), eig_Aeq)"
   ]
  },
  {
   "cell_type": "code",
   "execution_count": 40,
   "metadata": {
    "slideshow": {
     "slide_type": "skip"
    }
   },
   "outputs": [
    {
     "data": {
      "image/png": "[encoded data removed]",
      "text/latex": [
       "$\\displaystyle P$"
      ],
      "text/plain": [
       "P"
      ]
     },
     "metadata": {},
     "output_type": "display_data"
    },
    {
     "data": {
      "image/png": "[encoded data removed]",
      "text/latex": [
       "$\\displaystyle \\left[\\begin{matrix}-0.0245799289933513 & 0.0978434779575179 & -0.999596019171146 & 0.0\\\\0.0119159150928658 & 0.138755664264903 & 0.00102938998646595 & 1.09799574459094 \\cdot 10^{-5}\\\\-0.976440432501956 & 0.0 & -0.00734539428014545 & 0.000336785148688525\\\\0.066462618088809 & 0.112134560622216 & 0.00310787172625819 & 0.0272582388437165\\end{matrix}\\right]$"
      ],
      "text/plain": [
       "⎡-0.0245799289933513  0.0978434779575179   -0.999596019171146           0.0   \n",
       "⎢                                                                             \n",
       "⎢0.0119159150928658   0.138755664264903   0.00102938998646595   1.097995744590\n",
       "⎢                                                                             \n",
       "⎢-0.976440432501956          0.0          -0.00734539428014545  0.000336785148\n",
       "⎢                                                                             \n",
       "⎣ 0.066462618088809   0.112134560622216   0.00310787172625819    0.02725823884\n",
       "\n",
       "      ⎤\n",
       "      ⎥\n",
       "94e-5 ⎥\n",
       "      ⎥\n",
       "688525⎥\n",
       "      ⎥\n",
       "37165 ⎦"
      ]
     },
     "metadata": {},
     "output_type": "display_data"
    },
    {
     "data": {
      "image/png": "[encoded data removed]",
      "text/latex": [
       "$\\displaystyle A_{eq_z}$"
      ],
      "text/plain": [
       "A_{eq_z}"
      ]
     },
     "metadata": {},
     "output_type": "display_data"
    },
    {
     "data": {
      "image/png": "[encoded data removed]",
      "text/latex": [
       "$\\displaystyle \\left[\\begin{matrix}-3.8194 & 6.444 & 0.0 & 0.0\\\\-6.444 & -3.8194 & 0.0 & 0.0\\\\0.0 & 0.0 & -0.0181 & 0.2674\\\\0.0 & 0.0 & -0.2674 & -0.0181\\end{matrix}\\right]$"
      ],
      "text/plain": [
       "⎡-3.8194   6.444     0.0      0.0  ⎤\n",
       "⎢                                  ⎥\n",
       "⎢-6.444   -3.8194    0.0      0.0  ⎥\n",
       "⎢                                  ⎥\n",
       "⎢  0.0      0.0    -0.0181  0.2674 ⎥\n",
       "⎢                                  ⎥\n",
       "⎣  0.0      0.0    -0.2674  -0.0181⎦"
      ]
     },
     "metadata": {},
     "output_type": "display_data"
    }
   ],
   "source": [
    "# Construct block modal form of Aeq\n",
    "evals, evecs = np.linalg.eig(Aeq_num)\n",
    "P = np.matrix(np.column_stack((evecs[:,0].real, evecs[:,0].imag,\\\n",
    "                evecs[:,2].real, evecs[:,2].imag)))\n",
    "Aeq_modes = (P.getI()*Aeq_num*P).round(decimals=4)\n",
    "\n",
    "# Print P, Az\n",
    "display(sym.symbols('P'),sym.Matrix(P))\n",
    "display(sym.symbols('A_{eq_z}'), sym.Matrix(Aeq_modes))"
   ]
  },
  {
   "cell_type": "markdown",
   "metadata": {
    "slideshow": {
     "slide_type": "slide"
    }
   },
   "source": [
    "## Analysis: Oscillatory Modes\n",
    "\n",
    "Chakraborty et al describe two oscillatory modes within the GTM longitudinal dynamics \\[1\\].\n",
    "\n",
    "* Phugoid (slower oscillation, involves $x_1$ and $x_4$)\n",
    "\n",
    "* Short period (faster oscillation, involves $x_2$ and $x_3$)\n",
    "\n",
    "We want to measure how robust each mode is to perturbations. To simplify calculations, we can use approximations to __decouple__ the two nonlinear modes."
   ]
  },
  {
   "cell_type": "markdown",
   "metadata": {
    "slideshow": {
     "slide_type": "slide"
    }
   },
   "source": [
    "## Analysis: Decoupling Nonlinear Oscillatory Modes\n",
    "\n",
    "The short period mode primarily involves $x_2$, $x_3$, and $u_1$. We can _approximately_ decouple the short period mode by holding all other states and inputs at trim conditions.\n",
    "\n",
    "$$ g(x_2,x_3,u_1) = \\begin{bmatrix} f_2(x_{1,t}, x_2, x_3, x_{4,t}, u_1, u_{2,t}) \\\\ f_3(x_{1,t}, x_2, x_3, x_{4,t}, u_1, u_{2,t}) \\end{bmatrix} $$ \n"
   ]
  },
  {
   "cell_type": "code",
   "execution_count": 17,
   "metadata": {
    "slideshow": {
     "slide_type": "skip"
    }
   },
   "outputs": [
    {
     "data": {
      "image/png": "[encoded data removed]",
      "text/latex": [
       "$\\displaystyle Ag$"
      ],
      "text/plain": [
       "Ag"
      ]
     },
     "metadata": {},
     "output_type": "display_data"
    },
    {
     "data": {
      "image/png": "[encoded data removed]",
      "text/latex": [
       "$\\displaystyle \\left[\\begin{matrix}-3.23382535645741 & 0.922809460947467\\\\-47.3666653915355 & -4.37227875\\end{matrix}\\right]$"
      ],
      "text/plain": [
       "⎡-3.23382535645741  0.922809460947467⎤\n",
       "⎢                                    ⎥\n",
       "⎣-47.3666653915355     -4.37227875   ⎦"
      ]
     },
     "metadata": {},
     "output_type": "display_data"
    }
   ],
   "source": [
    "## Add decoupled short period dynamics\n",
    "\n",
    "# Decoupled short period dynamics\n",
    "g = sym.Matrix([[f2],[f3]])\n",
    "\n",
    "# Numerical function for g(x,ut)\n",
    "def g_sim(_x2,_x3, _u1, _xt, _ut):\n",
    "    return [\n",
    "        f2_sim(_xt[0],_x2,_x3,_xt[3],_u1,_ut[1]),\n",
    "        f3_sim(_xt[0],_x2,_x3,_xt[3],_u1,_ut[1])\n",
    "    ]\n",
    "\n",
    "# Linearize about trim condition\n",
    "Ag = g.jacobian(x[1:3])\\\n",
    ".subs([(x1,xt[0]),(x2,xt[1]),(x3,xt[2]),(x4,xt[3])])\\\n",
    ".subs([(u1,0),(u2,0)])\n",
    "\n",
    "# Numerical form for convenience\n",
    "Ag_num = np.matrix(Ag).astype(np.float64)\n",
    "display(sym.symbols('Ag'),Ag)\n"
   ]
  },
  {
   "cell_type": "code",
   "execution_count": 18,
   "metadata": {
    "slideshow": {
     "slide_type": "skip"
    }
   },
   "outputs": [
    {
     "data": {
      "image/png": "[encoded data removed]",
      "text/latex": [
       "$\\displaystyle Ah$"
      ],
      "text/plain": [
       "Ah"
      ]
     },
     "metadata": {},
     "output_type": "display_data"
    },
    {
     "data": {
      "image/png": "[encoded data removed]",
      "text/latex": [
       "$\\displaystyle \\left[\\begin{matrix}-0.0414402526965097 & -9.8070024245776\\\\0 & 0\\end{matrix}\\right]$"
      ],
      "text/plain": [
       "⎡-0.0414402526965097  -9.8070024245776⎤\n",
       "⎢                                     ⎥\n",
       "⎣         0                  0        ⎦"
      ]
     },
     "metadata": {},
     "output_type": "display_data"
    }
   ],
   "source": [
    "## Add decoupled phugoid dynamics\n",
    "\n",
    "# Decoupled short period dynamics\n",
    "h = sym.Matrix([[f1],[f4]])\n",
    "\n",
    "# Numerical function for h(x,ut)\n",
    "def h_sim(_x1,_x4, _u2, _xt, _ut):\n",
    "    return [\n",
    "        f1_sim(_x1,_xt[1], _xt[2], _x4, _ut[0], _u2),\n",
    "        f4_sim(_x1,_xt[1], _xt[2], _x4, _ut[0], _u2),\n",
    "    ]\n",
    "\n",
    "# Linearize about trim condition\n",
    "Ah = h.jacobian([x[0],x[3]])\\\n",
    ".subs([(x1,xt[0]),(x2,xt[1]),(x3,xt[2]),(x4,xt[3])])\\\n",
    ".subs([(u1,0),(u2,0)])\n",
    "\n",
    "# Numerical form for convenience\n",
    "Ah_num = np.matrix(Ah).astype(np.float64)\n",
    "display(sym.symbols('Ah'),Ah)"
   ]
  },
  {
   "cell_type": "code",
   "execution_count": 19,
   "metadata": {
    "slideshow": {
     "slide_type": "skip"
    }
   },
   "outputs": [],
   "source": [
    "## Functions for computing short period trajectories\n",
    "\n",
    "def short_period_dynamics(t, x, xt, ut):\n",
    "    return [\n",
    "        f1_sim(x[0], x[1], x[2], x[3], ut[0], ut[1]),\n",
    "        f2_sim(x[0], x[1], x[2], x[3], ut[0], ut[1]),\n",
    "        f3_sim(x[0], x[1], x[2], x[3], ut[0], ut[1]),\n",
    "        f4_sim(x[0], x[1], x[2], x[3], ut[0], ut[1])\n",
    "    ]    \n",
    "\n",
    "def decoupled_short_period_dynamics(t,x_2_3, xt, ut):\n",
    "    return [\n",
    "        f2_sim(xt[0], x_2_3[0], x_2_3[1], xt[3], ut[0], ut[1]),\n",
    "        f3_sim(xt[0], x_2_3[0], x_2_3[1], xt[3], ut[0], ut[1])\n",
    "    ]\n",
    "\n",
    "def linear_short_period_dynamics(t,x_2_3, xt, ut):\n",
    "    return [\n",
    "        Ag_num.item(0,0) * x_2_3[0] + Ag_num.item(0,1) * x_2_3[1],\n",
    "        Ag_num.item(1,0) * x_2_3[0] + Ag_num.item(1,1) * x_2_3[1]\n",
    "    ]\n",
    "\n",
    "def short_period_trajectory(ic1, ic2, xt, ut, worker_index=0, trajectories=None):\n",
    "    traj = sci.integrate.solve_ivp(\n",
    "        short_period_dynamics, \n",
    "        [0, 100], \n",
    "        [xt[0], xt[1] + ic1, xt[2]+ ic2, xt[3]],\n",
    "        t_eval=np.linspace(0,100,10000),\n",
    "        args=(xt,ut))\n",
    "    \n",
    "    if not trajectories is None:\n",
    "        trajectories[worker_index] = traj\n",
    "    \n",
    "    return traj\n",
    "\n",
    "def decoupled_short_period_trajectory(ic1, ic2, xt, ut, worker_index=0, trajectories=None):\n",
    "    traj = sci.integrate.solve_ivp(\n",
    "        decoupled_short_period_dynamics, \n",
    "        [0, 100], \n",
    "        [xt[1] + ic1, xt[2]+ ic2],\n",
    "        t_eval=np.linspace(0,100,10000),\n",
    "        args=(xt,ut))\n",
    "    \n",
    "    if not trajectories is None:\n",
    "        trajectories[worker_index] = traj\n",
    "    \n",
    "    return traj\n",
    "\n",
    "def linear_short_period_trajectory(ic1, ic2, xt, ut, worker_index=0, trajectories=None):\n",
    "    traj = sci.integrate.solve_ivp(\n",
    "        linear_short_period_dynamics, \n",
    "        [0, 100], \n",
    "        [ic1, ic2],\n",
    "        t_eval=np.linspace(0,100,10000),\n",
    "        args=(xt,ut))\n",
    "    \n",
    "    if not trajectories is None:\n",
    "        trajectories[worker_index] = traj\n",
    "    \n",
    "    return traj\n",
    "    "
   ]
  },
  {
   "cell_type": "code",
   "execution_count": 20,
   "metadata": {
    "slideshow": {
     "slide_type": "skip"
    }
   },
   "outputs": [],
   "source": [
    "## Functions for computing phugoid trajectories\n",
    "\n",
    "def phugoid_dynamics(t, x, xt, ut):\n",
    "    return [\n",
    "        f1_sim(x[0], x[1], x[2], x[3], ut[0], ut[1]),\n",
    "        f2_sim(x[0], x[1], x[2], x[3], ut[0], ut[1]),\n",
    "        f3_sim(x[0], x[1], x[2], x[3], ut[0], ut[1]),\n",
    "        f4_sim(x[0], x[1], x[2], x[3], ut[0], ut[1])\n",
    "    ]    \n",
    "\n",
    "def decoupled_phugoid_dynamics(t,x_1_4, xt, ut):\n",
    "    return [\n",
    "        f2_sim(x_1_4[0], xt[1], xt[2], x_1_4[1], ut[0], ut[1]),\n",
    "        f3_sim(x_1_4[0], xt[1], xt[2], x_1_4[1], ut[0], ut[1])\n",
    "    ]\n",
    "\n",
    "def linear_phugoid_dynamics(t,x_1_4, xt, ut):\n",
    "    return [\n",
    "        Ah_num.item(0,0) * x_1_4[0] + Ag_num.item(0,1) * x_1_4[1],\n",
    "        Ah_num.item(1,0) * x_1_4[0] + Ag_num.item(1,1) * x_1_4[1]\n",
    "    ]\n",
    "\n",
    "def phugoid_trajectory(ic1, ic2, xt, ut, worker_index=0, trajectories=None):\n",
    "    traj = sci.integrate.solve_ivp(\n",
    "        phugoid_dynamics, \n",
    "        [0, 100], \n",
    "        [xt[0] + ic1, xt[1], xt[2], xt[3] + ic2],\n",
    "        t_eval=np.linspace(0,100,10000),\n",
    "        args=(xt,ut))\n",
    "    \n",
    "    if not trajectories is None:\n",
    "        trajectories[worker_index] = traj\n",
    "    \n",
    "    return traj\n",
    "\n",
    "def decoupled_phugoid_trajectory(ic1, ic2, xt, ut, worker_index=0, trajectories=None):\n",
    "    traj = sci.integrate.solve_ivp(\n",
    "        decoupled_phugoid_dynamics, \n",
    "        [0, 100], \n",
    "        [xt[0] + ic1, xt[3]+ ic2],\n",
    "        t_eval=np.linspace(0,100,10000),\n",
    "        args=(xt,ut))\n",
    "    \n",
    "    if not trajectories is None:\n",
    "        trajectories[worker_index] = traj\n",
    "    \n",
    "    return traj\n",
    "\n",
    "def linear_phugoid_trajectory(ic1, ic2, xt, ut, worker_index=0, trajectories=None):\n",
    "    traj = sci.integrate.solve_ivp(\n",
    "        linear_phugoid_dynamics, \n",
    "        [0, 100], \n",
    "        [ic1, ic2],\n",
    "        t_eval=np.linspace(0,100,10000),\n",
    "        args=(xt,ut))\n",
    "    \n",
    "    if not trajectories is None:\n",
    "        trajectories[worker_index] = traj\n",
    "    \n",
    "    return traj\n",
    "    "
   ]
  },
  {
   "cell_type": "code",
   "execution_count": 21,
   "metadata": {
    "slideshow": {
     "slide_type": "skip"
    }
   },
   "outputs": [],
   "source": [
    "## Functions for computing trajectories\n",
    "\n",
    "# Compute trajectory from single IC\n",
    "def compute_mode_trajectory(function, ic, xt, ut):\n",
    "    return {0:function(ic[0],ic[1],xt,ut)}\n",
    "\n",
    "# Compute trajectories from multiple IC\n",
    "def compute_mode_trajectories(function, ic, xt, ut):\n",
    "    ## Code below copied, slightly modified from\n",
    "    ## https://stackoverflow.com/questions/10415028/\n",
    "    \n",
    "    # Create list of all combinations of ICs\n",
    "    # https://stackoverflow.com/questions/12935194/\n",
    "    all_ic = list(itertools.product(ic,ic)) \n",
    "    \n",
    "    manager = multiprocessing.Manager()\n",
    "    trajectories = manager.dict()\n",
    "    jobs = []\n",
    "\n",
    "    for i in range(len(all_ic)):\n",
    "        p = multiprocessing.Process(\n",
    "            target=function,\n",
    "            args = (all_ic[i][0], \n",
    "                    all_ic[i][1], \n",
    "                    xt, \n",
    "                    ut, \n",
    "                    i, \n",
    "                    trajectories))\n",
    "        jobs.append(p)\n",
    "        p.start()\n",
    "\n",
    "    for proc in jobs:\n",
    "        proc.join()\n",
    "        \n",
    "    return trajectories"
   ]
  },
  {
   "cell_type": "code",
   "execution_count": 22,
   "metadata": {
    "slideshow": {
     "slide_type": "skip"
    }
   },
   "outputs": [],
   "source": [
    "## Construct phase portrait for short-period\n",
    "## dynamics (decoupled and full polynomial)\n",
    "\n",
    "ic = [0.1, -0.1]\n",
    "full_trajectories_dict = compute_mode_trajectories(\n",
    "    short_period_trajectory, ic, xt, ut)\n",
    "decoupled_trajectories_dict = compute_mode_trajectories(\n",
    "    decoupled_short_period_trajectory, ic, xt, ut)"
   ]
  },
  {
   "cell_type": "code",
   "execution_count": 23,
   "metadata": {
    "slideshow": {
     "slide_type": "skip"
    }
   },
   "outputs": [
    {
     "data": {
      "image/png": "[encoded data removed]",
      "text/plain": [
       "<Figure size 432x288 with 1 Axes>"
      ]
     },
     "metadata": {
      "needs_background": "light"
     },
     "output_type": "display_data"
    }
   ],
   "source": [
    "## Plot phase portraits in one plot\n",
    "\n",
    "# Contains plot objects, used for legend\n",
    "color_list = ['blue', 'orange', 'green', 'red', 'yellow']\n",
    "\n",
    "plt.figure()\n",
    "\n",
    "# Plot decoupled trajectories (solid)\n",
    "for i in range(len(decoupled_trajectories_dict)):\n",
    "    traj = decoupled_trajectories_dict[i]\n",
    "    alpha = traj.y[0] * units.rad\n",
    "    q = traj.y[1] * units.rad / units.s\n",
    "    plt.plot(alpha.to(units.deg), q.to(units.deg/units.s), color='black',linestyle='-')\n",
    "\n",
    "# Plot full trajectories (dashed)\n",
    "for i in range(len(full_trajectories_dict)):\n",
    "    traj = full_trajectories_dict[i]\n",
    "    alpha = traj.y[1] * units.rad\n",
    "    q = traj.y[2] * units.rad / units.s\n",
    "    plt.plot(alpha.to(units.deg), q.to(units.deg/units.s), color=color_list[i],linestyle='--')\n",
    "\n",
    "# Add title, legend, axis labels\n",
    "plt.title('Phase Portrait: Short Period Mode\\n(solid, black: decoupled, dash, color: coupled)')\n",
    "plt.xlabel('alpha (deg)')\n",
    "plt.ylabel('q (deg / s)')\n",
    "\n",
    "plt.savefig('media/fig3/fig3_redo.png');\n",
    "plt.show()\n",
    "\n",
    "# Save plot to file (repeat of Fig.3 [1])\n"
   ]
  },
  {
   "cell_type": "markdown",
   "metadata": {
    "slideshow": {
     "slide_type": "slide"
    }
   },
   "source": [
    "### Phase Portrait - Short Period Mode\n",
    "\n",
    "|Re-created|Published \\[1\\]|\n",
    "|-|-|\n",
    "|<img src=\"media/fig3/fig3_redo.png\" width=500/>|<img src=\"media/fig3/fig3_published.png\" width=500/>|"
   ]
  },
  {
   "cell_type": "code",
   "execution_count": 24,
   "metadata": {
    "slideshow": {
     "slide_type": "skip"
    }
   },
   "outputs": [
    {
     "data": {
      "image/png": "[encoded data removed]",
      "text/plain": [
       "<Figure size 432x288 with 1 Axes>"
      ]
     },
     "metadata": {
      "needs_background": "light"
     },
     "output_type": "display_data"
    }
   ],
   "source": [
    "## Construct phase portrait for short-period\n",
    "## dynamics (decoupled outside ROA)\n",
    "\n",
    "# Calculate trajectories\n",
    "ic = [0.5, -0.5]\n",
    "div_trajectories_dict = compute_mode_trajectories(\n",
    "    decoupled_short_period_trajectory, ic, xt, ut)\n",
    "\n",
    "# Plot trajectories\n",
    "plt.figure()\n",
    "color_list = ['blue', 'orange', 'green', 'red', 'yellow']\n",
    "for i in range(len(div_trajectories_dict)):\n",
    "    traj = div_trajectories_dict[i]\n",
    "    alpha = traj.y[0] * units.rad\n",
    "    q = traj.y[1] * units.rad / units.s\n",
    "    plt.plot(alpha.to(units.deg), q.to(units.deg/units.s), color=color_list[i],linestyle='-')\n",
    "\n",
    "    # Add title, legend, axis labels\n",
    "plt.title('Phase Portrait: Short Period Mode\\n(green, blue, yellow trajectories diverge from trim condition)')\n",
    "plt.xlabel('alpha (deg)')\n",
    "plt.ylabel('q (deg / s)')\n",
    "\n",
    "# Save plot to file (modified Fig.3 [1])\n",
    "plt.savefig('media/fig3/fig3_redo_divergent.png');\n",
    "plt.show()"
   ]
  },
  {
   "cell_type": "markdown",
   "metadata": {
    "slideshow": {
     "slide_type": "slide"
    }
   },
   "source": [
    "### Divergent Trajectories\n",
    "\n",
    "Note, this trim condition is asympotically stable, but __not globally__ asymptotically stabe.\n",
    "\n",
    "<img src=\"media/fig3/fig3_redo_divergent.png\" width=500/>"
   ]
  },
  {
   "cell_type": "markdown",
   "metadata": {
    "slideshow": {
     "slide_type": "slide"
    }
   },
   "source": [
    "### ROA Estimation Setup: Two Final Model Modifications\n",
    "\n",
    "1. The ROA computations require the equilibrium point at the origin, so we re-define the state $z = x - x_t$ \"to shift the trim condition to the origin of the state space\" \\[1\\].\n",
    "\n",
    "$$ z = \\begin{bmatrix}\n",
    "    z_1 \\\\ z_2 \\\\ z_3 \\\\ z_4 \n",
    "    \\end{bmatrix} = x - x_t = \\begin{bmatrix}\n",
    "    V-V_t \\\\ \\alpha - \\alpha_t \\\\ q - q_t \\\\ \\theta - \\theta_t\n",
    "    \\end{bmatrix}\n",
    "$$ \n",
    "\n",
    "2. Polynomial terms with degree greater than 5, and/or coefficients less that $10^{-6}$ were removed."
   ]
  },
  {
   "cell_type": "markdown",
   "metadata": {
    "slideshow": {
     "slide_type": "slide"
    }
   },
   "source": [
    "### ROA Estimation Setup: Two New Definitions\n",
    "\n",
    "\n",
    "Two new definitions are needed for the proposed ROA estimation method:\n",
    "\n",
    "1. Define \"shape function\" $p(z) = z^T N z$ for some $n \\times n$ symmetric matrix $N$.\n",
    "\n",
    "2. Define \"level set\" $\\epsilon_\\beta = \\{ z \\in \\mathcal{R}^n : p(z) \\leq \\beta \\}$.\n",
    "\n",
    "\n",
    "Here, the ellipsoid is $\\epsilon_\\beta$. The shape of the ellipsoid is $p(z)$, and the size of the ellipsoid is $\\beta$.\n",
    "\n",
    "\n",
    "We want to solve for the largest $\\epsilon_\\beta$ within the ROA. This is difficult, so instead we will solve for upper and lower bounds.\n"
   ]
  },
  {
   "cell_type": "markdown",
   "metadata": {
    "slideshow": {
     "slide_type": "slide"
    }
   },
   "source": [
    "### ROA Estimate: Upper Bound\n",
    "\n",
    "The steps to solve for the best ROA upper bound involve searching for divergent trajectories: \\[1\\]\n",
    "\n",
    "1. Guess at a large ROA ellipsoid size $\\beta$\n",
    "\n",
    "2. Pick a random initial condition that lies on the edge of that ellipse\n",
    "\n",
    "3. When a a random initial condition causes the trajectory to diverge from the trim condition, reduce your ellipse size guess and try again\n",
    "\n",
    "4. Repeat until the pre-set max number of iterations is reached"
   ]
  },
  {
   "cell_type": "markdown",
   "metadata": {
    "slideshow": {
     "slide_type": "slide"
    }
   },
   "source": [
    "### ROA Estimate: Upper Bound\n",
    "\n",
    "Written mathematically... \\[1\\]\n",
    "\n",
    "1. Choose a large ROA size $\\beta_{try}$\n",
    "\n",
    "2. Choose an initial condition $z_0$ that satisfies $p(z_0) = \\beta_{try}$\n",
    "\n",
    "3. If $z_0$ produces a divergent trajectory, reduce $\\beta_{try}$ by a factor of $0.995$ and __return to step 1__. Otherwise, choose a different $z_0$ which satisfies $p(z_0) = \\beta_{try}$\n",
    "\n",
    "4. Repeat until the pre-set max number of iterations is reached"
   ]
  },
  {
   "cell_type": "markdown",
   "metadata": {
    "slideshow": {
     "slide_type": "slide"
    }
   },
   "source": [
    "### ROA Estimate: Lower Bound\n",
    "\n",
    "|Lemma 1 \\[4\\]|\n",
    "|-|\n",
    "| <img src=media/lemma1/lemma1.png width=500 /> |"
   ]
  },
  {
   "cell_type": "markdown",
   "metadata": {
    "slideshow": {
     "slide_type": "slide"
    }
   },
   "source": [
    "### ROA Estimate: Lower Bound\n",
    "\n",
    "The steps to solve for the best ROA lower bound involve combining Lyapunov stability theory with a specific constrained optimization problem: \\[1\\]\n",
    "\n",
    "Given a Lyapunov function $V(z)$, we are looking for:\n",
    "\n",
    "$$ \\gamma^* := \\text{max}\\gamma \\ \\text{ subject to: } \\ \\Omega_\\gamma\\ \\subset \\{ z \\in \\mathbb{R}^n : \\Delta V(z)f(z) < 0 \\} \\tag{27} $$\n",
    "\n",
    "$$ \\underline{\\beta} := \\text{max}\\beta \\ \\text{ subject to: } \\ \\epsilon_\\beta \\subset \\Omega_\\gamma \\tag{28} $$\n",
    "\n",
    "These \"set containment constraints\" can be replaced with \"a sufficient condition involving non-negative functions\" \\[1\\]."
   ]
  },
  {
   "cell_type": "markdown",
   "metadata": {
    "slideshow": {
     "slide_type": "slide"
    }
   },
   "source": [
    "### ROA Estimate: Lower Bound\n",
    "\n",
    "A sufficient condition for the $\\underline{\\beta}$ constaint turns this into a sum-of-squares ($h = g_1^2 + ... + g_n^2$) optimization problem: \\[1\\]\n",
    "\n",
    "$$ \\underline{\\beta} := \\text{max}\\beta \\ \\text{ subject to } \\ s(z) \\ \\text{ is SOS, and } \\\\ -(\\beta - p(z)s(z) + (\\gamma^* - V(z)) \\ \\text{ is SOS } \\tag{30} $$ \n",
    "\n",
    "Here, $s(z)$ \"is a decision variable of the optimization\" \\[1\\]."
   ]
  },
  {
   "cell_type": "markdown",
   "metadata": {
    "slideshow": {
     "slide_type": "slide"
    }
   },
   "source": [
    "### ROA Estimate: Lower Bound\n",
    "\n",
    "But how do we find a Lyapunov function?\n",
    "\n",
    "Because the origin is asymptotically stable, we can use linearization: \\[1\\]\n",
    "\n",
    "$$ V_{LIN}(z) := z^T P z,\\ \\ \\text{ where } A^T P + P A = -I $$ \n",
    "\n",
    "It turns out that this often results in a conservative ROA lower bound estimate \\[1\\]. So how do we find a _better_ Lyapunov function?"
   ]
  },
  {
   "cell_type": "markdown",
   "metadata": {
    "slideshow": {
     "slide_type": "slide"
    }
   },
   "source": [
    "### ROA Estimate: Lower Bound\n",
    "\n",
    "To find a better Lyapunov function, we can perform the $V$-$s$ iteration steps below (starting with $V_{LIN}$, and with $l_1 (z) = -\\epsilon_1 z^t z$ and $l_2(z) = -\\epsilon_2 z^t z, for \\epsilon_1,\\ \\epsilon_2 \\approxeq 10^{-6}$): \\[1\\]\n",
    "\n",
    "<img src=media/v-s/vs_steps.png width=500 />"
   ]
  },
  {
   "cell_type": "markdown",
   "metadata": {
    "slideshow": {
     "slide_type": "slide"
    }
   },
   "source": [
    "### Final ROA Estimate\n",
    "\n",
    "|Figure 8 \\[1\\]|\n",
    "|-|\n",
    "|<img src=media/v-s/result/final_roa.png width=500 />|"
   ]
  },
  {
   "cell_type": "markdown",
   "metadata": {
    "slideshow": {
     "slide_type": "slide"
    }
   },
   "source": [
    "### Conclusion: Nonlinear Analysis is Hard\n",
    "\n",
    "* Linear analysis and high-fidelity simulations can still miss important dynamical elements\n",
    "\n",
    "* A larger ROA can imply a higher robustness to perturbations\n",
    "\n",
    "* There are algorithms to help find better Lyapunov functions, for the purposes of ROA estimation\n",
    "\n"
   ]
  },
  {
   "cell_type": "markdown",
   "metadata": {
    "slideshow": {
     "slide_type": "slide"
    }
   },
   "source": [
    "### References\n",
    "\\[1\\] Chakraborty, Abhijit, Peter Seiler, and Gary J. Balas. \"Nonlinear region of attraction analysis for flight control verification and validation.\" Control Engineering Practice 19, no. 4 (2011): 335-345.\n",
    "\n",
    "\\[2\\] Chakraborty, Abhijit, Peter Seiler, and Gary J. Balas. \"Susceptibility of F/A-18 flight controllers to the falling-leaf mode: Nonlinear analysis.\" Journal of guidance, control, and dynamics 34, no. 1 (2011): 73-85.\n",
    "\n",
    "\\[3\\] Khalil, Hassan K., and Jessy W. Grizzle. Nonlinear systems. Vol. 3. Upper Saddle River, NJ: Prentice hall, 2002.\n",
    "\n",
    "\\[4\\] Vidyasagar, Mathukumalli. Nonlinear systems analysis. Vol. 42. Siam, 2002.\n",
    "\n",
    "\\[5\\] https://www.nasa.gov/larc/airstar-for-the-sake-of-pilots-and-passengers\n",
    "\n",
    "\\[6\\] https://mathworld.wolfram.com/LeastSquaresFitting.html\n",
    "\n",
    "\\[7\\] https://dept.aem.umn.edu/~AerospaceControl/\n",
    "\n",
    "\\[8\\] https://www.cds.caltech.edu/sostools/"
   ]
  }
 ],
 "metadata": {
  "kernelspec": {
   "display_name": "Python 3",
   "language": "python",
   "name": "python3"
  },
  "language_info": {
   "codemirror_mode": {
    "name": "ipython",
    "version": 3
   },
   "file_extension": ".py",
   "mimetype": "text/x-python",
   "name": "python",
   "nbconvert_exporter": "python",
   "pygments_lexer": "ipython3",
   "version": "3.7.6"
  },
  "rise": {
   "theme": "solarized",
   "transition": "none"
  }
 },
 "nbformat": 4,
 "nbformat_minor": 4
}
